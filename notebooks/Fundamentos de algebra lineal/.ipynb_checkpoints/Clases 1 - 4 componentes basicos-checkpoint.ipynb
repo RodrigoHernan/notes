{
 "cells": [
  {
   "cell_type": "markdown",
   "metadata": {},
   "source": [
    "#### Elementos básicos"
   ]
  },
  {
   "cell_type": "code",
   "execution_count": 2,
   "metadata": {},
   "outputs": [
    {
     "name": "stdout",
     "output_type": "stream",
     "text": [
      "(6,)\n",
      "(2, 4)\n",
      "(2, 3, 3)\n"
     ]
    }
   ],
   "source": [
    "import numpy as np\n",
    "\n",
    "escalar = 4.5667\n",
    "vector = np.array([2,3,4,5,6,7])\n",
    "matriz = np.array([[1,2,3,4],[5,6,7,8]])\n",
    "tensor = np.array([\n",
    "    [[255,255,255],[255,255,255],[255,255,255]],\n",
    "    [[128,128,128],[128,128,128],[128,128,128]],\n",
    "])\n",
    "\n",
    "print(vector.shape)\n",
    "print(matriz.shape)\n",
    "print(tensor.shape)"
   ]
  },
  {
   "cell_type": "markdown",
   "metadata": {},
   "source": [
    "#### Representación de un tensor"
   ]
  },
  {
   "cell_type": "code",
   "execution_count": 7,
   "metadata": {},
   "outputs": [
    {
     "name": "stderr",
     "output_type": "stream",
     "text": [
      "Clipping input data to the valid range for imshow with RGB data ([0..1] for floats or [0..255] for integers).\n"
     ]
    },
    {
     "data": {
      "image/png": "[encoded data removed]",
      "text/plain": [
       "<Figure size 432x288 with 1 Axes>"
      ]
     },
     "metadata": {
      "needs_background": "light"
     },
     "output_type": "display_data"
    }
   ],
   "source": [
    "tensorT = np.array([\n",
    "[[128,255,255],[255,255,255],[255,255,128]],\n",
    "[[0,0,128],[0,0,0],[0,128,0]],\n",
    "# [[128,256,128],[128,128,255],[128,128,128]],\n",
    "])\n",
    "%matplotlib inline\n",
    "import matplotlib.pyplot as plt\n",
    "\n",
    "plt.imshow(tensorT, interpolation='nearest')\n",
    "plt.show()"
   ]
  },
  {
   "cell_type": "code",
   "execution_count": null,
   "metadata": {},
   "outputs": [],
   "source": []
  }
 ],
 "metadata": {
  "kernelspec": {
   "display_name": "Python 3",
   "language": "python",
   "name": "python3"
  },
  "language_info": {
   "codemirror_mode": {
    "name": "ipython",
    "version": 3
   },
   "file_extension": ".py",
   "mimetype": "text/x-python",
   "name": "python",
   "nbconvert_exporter": "python",
   "pygments_lexer": "ipython3",
   "version": "3.7.6"
  }
 },
 "nbformat": 4,
 "nbformat_minor": 4
}
